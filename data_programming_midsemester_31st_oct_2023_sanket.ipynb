{
 "cells": [
  {
   "cell_type": "markdown",
   "id": "e292037e",
   "metadata": {},
   "source": [
    "## Question 21\n",
    "#### Distance and slope question"
   ]
  },
  {
   "cell_type": "code",
   "execution_count": 5,
   "id": "12f693e3",
   "metadata": {},
   "outputs": [
    {
     "name": "stdout",
     "output_type": "stream",
     "text": [
      "While initialising point object enter (y-coardinate,x-coardinate) respectively\n",
      "Length of segment:  5.0\n",
      "Slope of segement:  0.75\n"
     ]
    }
   ],
   "source": [
    "import math\n",
    "\n",
    "class point:\n",
    "    def __init__(self, y=0, x=0):\n",
    "        self.y = y\n",
    "        self.x = x\n",
    "\n",
    "class segment:\n",
    "    def __init__(self, p1, p2):\n",
    "        self.p1 = p1\n",
    "        self.p2 = p2\n",
    "\n",
    "    def length(self):\n",
    "        # Calculate the distance between p1 and p2\n",
    "        length = math.sqrt((p2.y - p1.y)**2 + (p2.x - p1.x)**2)\n",
    "        print(\"Length of segment: \",length)\n",
    "\n",
    "    def slope(self):\n",
    "        # Calculate the slope between p1 and p2\n",
    "        if(self.p2.x == self.p1.x):\n",
    "            print(\"Slope is infinite\")\n",
    "            return\n",
    "        slope = (self.p2.y - self.p1.y) / (self.p2.x - self.p1.x)\n",
    "        print(\"Slope of segement: \",slope)\n",
    "        \n",
    "if __name__ == \"__main__\":\n",
    "    print(\"While initialising point object enter (y-coardinate,x-coardinate) respectively\")\n",
    "    p1 = point(3,4); # point with y-coardinate=3 and x-coardinate=4\n",
    "    p2 = point(0,0); # point with y-coardinate=0 and x-coardinate=0\n",
    "    s = segment(p1,p2)\n",
    "    s.length()\n",
    "    s.slope()"
   ]
  },
  {
   "cell_type": "markdown",
   "id": "b86bfd61",
   "metadata": {},
   "source": [
    "## Question 22\n",
    "#### python and sql weather table"
   ]
  },
  {
   "cell_type": "code",
   "execution_count": 32,
   "id": "679bd2b4",
   "metadata": {},
   "outputs": [
    {
     "ename": "OperationalError",
     "evalue": "database is locked",
     "output_type": "error",
     "traceback": [
      "\u001b[0;31m---------------------------------------------------------------------------\u001b[0m",
      "\u001b[0;31mOperationalError\u001b[0m                          Traceback (most recent call last)",
      "Cell \u001b[0;32mIn[32], line 27\u001b[0m\n\u001b[1;32m     19\u001b[0m data \u001b[38;5;241m=\u001b[39m [\n\u001b[1;32m     20\u001b[0m     (\u001b[38;5;241m11\u001b[39m,\u001b[38;5;124m'\u001b[39m\u001b[38;5;124m2015-01-01\u001b[39m\u001b[38;5;124m'\u001b[39m, \u001b[38;5;241m10\u001b[39m),\n\u001b[1;32m     21\u001b[0m     (\u001b[38;5;241m22\u001b[39m,\u001b[38;5;124m'\u001b[39m\u001b[38;5;124m2015-01-02\u001b[39m\u001b[38;5;124m'\u001b[39m, \u001b[38;5;241m25\u001b[39m),\n\u001b[1;32m     22\u001b[0m     (\u001b[38;5;241m33\u001b[39m,\u001b[38;5;124m'\u001b[39m\u001b[38;5;124m2015-01-03\u001b[39m\u001b[38;5;124m'\u001b[39m, \u001b[38;5;241m20\u001b[39m),\n\u001b[1;32m     23\u001b[0m     (\u001b[38;5;241m44\u001b[39m,\u001b[38;5;124m'\u001b[39m\u001b[38;5;124m2015-01-04\u001b[39m\u001b[38;5;124m'\u001b[39m, \u001b[38;5;241m30\u001b[39m)\n\u001b[1;32m     24\u001b[0m ]\n\u001b[1;32m     26\u001b[0m insert_query \u001b[38;5;241m=\u001b[39m \u001b[38;5;124m\"\u001b[39m\u001b[38;5;124mINSERT INTO weather (id,recordDate, temperature) VALUES (?, ?, ?)\u001b[39m\u001b[38;5;124m\"\u001b[39m\n\u001b[0;32m---> 27\u001b[0m cursor\u001b[38;5;241m.\u001b[39mexecutemany(insert_query, data)\n\u001b[1;32m     29\u001b[0m \u001b[38;5;66;03m# Commit the changes to the database\u001b[39;00m\n\u001b[1;32m     30\u001b[0m connection\u001b[38;5;241m.\u001b[39mcommit()\n",
      "\u001b[0;31mOperationalError\u001b[0m: database is locked"
     ]
    }
   ],
   "source": [
    "import sqlite3\n",
    "\n",
    "# Create a database  forecast and create a connection to database\n",
    "connection = sqlite3.connect(\"forecast.db\")\n",
    "\n",
    "# Create a cursor object to interact with database\n",
    "cursor = connection.cursor()\n",
    "\n",
    "# Create the weather table\n",
    "cursor.execute('''\n",
    "    CREATE TABLE IF NOT EXISTS weather (\n",
    "        id INTEGER PRIMARY KEY,\n",
    "        recordDate DATE,\n",
    "        temperature INTEGER\n",
    "    )\n",
    "''')\n",
    "\n",
    "# Insert multiple rows into the weather table\n",
    "data = [\n",
    "    (11,'2015-01-01', 10),\n",
    "    (22,'2015-01-02', 25),\n",
    "    (33,'2015-01-03', 20),\n",
    "    (44,'2015-01-04', 30)\n",
    "]\n",
    "\n",
    "insert_query = \"INSERT INTO weather (id,recordDate, temperature) VALUES (?, ?, ?)\"\n",
    "cursor.executemany(insert_query, data)\n",
    "\n",
    "# Commit the changes to the database\n",
    "connection.commit()\n",
    "select_query = \"select * from weather\"\n",
    "print(\"Printing the contents of weather table\")\n",
    "cursor.execute(select_query)\n",
    "records = cursor.fetchall()\n",
    "# Print the records\n",
    "for record in records:\n",
    "    print(record)\n",
    "    \n",
    "\n",
    "# Select data from the \"weather\" table\n",
    "select_query = \"\"\"SELECT t1.id FROM weather t1 \n",
    "                    left join weather t2 on t1.recordDate = DATE(t2.recordDate, '+1 days')\n",
    "                    where t1.temperature>t2.temperature\n",
    "                    \"\"\"\n",
    "cursor.execute(select_query)\n",
    "records = cursor.fetchall()\n",
    "\n",
    "print(\"Printing result\")\n",
    "# Print the records\n",
    "for record in records:\n",
    "    print(record)\n",
    "\n",
    "# Close the cursor and the database connection\n",
    "cursor.close()\n",
    "connection.close()\n"
   ]
  },
  {
   "cell_type": "markdown",
   "id": "2ef6c6cb",
   "metadata": {},
   "source": [
    "## Question 23\n",
    "#### pattern question"
   ]
  },
  {
   "cell_type": "code",
   "execution_count": 30,
   "id": "57601151",
   "metadata": {},
   "outputs": [
    {
     "name": "stdout",
     "output_type": "stream",
     "text": [
      "\n",
      "\n",
      "\n",
      "\n",
      "\n",
      "\n",
      "\n",
      "\n",
      "*\n",
      "\n",
      "\n",
      "\n",
      "\n",
      "\n",
      "\n",
      "\n",
      "\n",
      "*\n",
      "**\n",
      " *\n",
      "\n",
      "\n",
      "\n",
      "\n",
      "\n",
      "\n",
      "\n",
      "\n",
      "*\n",
      "**\n",
      " *\n",
      "****\n",
      "  *\n",
      "  **\n",
      "   *\n"
     ]
    }
   ],
   "source": [
    "def f(indent, number):\n",
    "    if(number > 0):\n",
    "        f(indent, number//2);\n",
    "        print(\" \"*indent + \"*\"*number);\n",
    "        f(indent + number//2, number//2);\n",
    "        \n",
    "f(0, 0)\n",
    "\n",
    "print(\"\\n\\n\\n\\n\\n\\n\\n\")\n",
    "\n",
    "f(0, 1)\n",
    "\n",
    "print(\"\\n\\n\\n\\n\\n\\n\\n\")\n",
    "\n",
    "f(0, 2)\n",
    "print(\"\\n\\n\\n\\n\\n\\n\\n\")\n",
    "\n",
    "f(0, 4)\n",
    "\n"
   ]
  },
  {
   "cell_type": "code",
   "execution_count": null,
   "id": "fdca2531",
   "metadata": {},
   "outputs": [],
   "source": []
  }
 ],
 "metadata": {
  "kernelspec": {
   "display_name": "Python 3 (ipykernel)",
   "language": "python",
   "name": "python3"
  },
  "language_info": {
   "codemirror_mode": {
    "name": "ipython",
    "version": 3
   },
   "file_extension": ".py",
   "mimetype": "text/x-python",
   "name": "python",
   "nbconvert_exporter": "python",
   "pygments_lexer": "ipython3",
   "version": "3.11.4"
  }
 },
 "nbformat": 4,
 "nbformat_minor": 5
}
